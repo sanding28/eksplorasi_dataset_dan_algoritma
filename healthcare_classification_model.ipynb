{
  "cells": [
    {
      "cell_type": "code",
      "execution_count": 35,
      "metadata": {
        "id": "IVR90OLjOCOj"
      },
      "outputs": [],
      "source": [
        "import pandas as pd\n",
        "from sklearn.model_selection import train_test_split\n",
        "from sklearn.preprocessing import LabelEncoder\n",
        "import matplotlib.pyplot as plt\n",
        "import seaborn as sns\n",
        "import numpy as np\n",
        "from sklearn.tree import DecisionTreeClassifier\n",
        "from sklearn.ensemble import RandomForestClassifier"
      ]
    },
    {
      "cell_type": "code",
      "execution_count": 4,
      "metadata": {
        "id": "XrhvXp_GOTmH"
      },
      "outputs": [],
      "source": [
        "df = pd.read_csv(\"https://raw.githubusercontent.com/sanding28/dataset/main/healthcare_dataset.csv\")"
      ]
    },
    {
      "cell_type": "code",
      "execution_count": 5,
      "metadata": {
        "colab": {
          "base_uri": "https://localhost:8080/",
          "height": 276
        },
        "id": "9_qzGWXMOerj",
        "outputId": "878c3e26-6fa2-4554-c5d6-fa493cbd059a"
      },
      "outputs": [
        {
          "data": {
            "text/html": [
              "<div>\n",
              "<style scoped>\n",
              "    .dataframe tbody tr th:only-of-type {\n",
              "        vertical-align: middle;\n",
              "    }\n",
              "\n",
              "    .dataframe tbody tr th {\n",
              "        vertical-align: top;\n",
              "    }\n",
              "\n",
              "    .dataframe thead th {\n",
              "        text-align: right;\n",
              "    }\n",
              "</style>\n",
              "<table border=\"1\" class=\"dataframe\">\n",
              "  <thead>\n",
              "    <tr style=\"text-align: right;\">\n",
              "      <th></th>\n",
              "      <th>Name</th>\n",
              "      <th>Age</th>\n",
              "      <th>Gender</th>\n",
              "      <th>Blood Type</th>\n",
              "      <th>Medical Condition</th>\n",
              "      <th>Date of Admission</th>\n",
              "      <th>Doctor</th>\n",
              "      <th>Hospital</th>\n",
              "      <th>Insurance Provider</th>\n",
              "      <th>Billing Amount</th>\n",
              "      <th>Room Number</th>\n",
              "      <th>Admission Type</th>\n",
              "      <th>Discharge Date</th>\n",
              "      <th>Medication</th>\n",
              "      <th>Test Results</th>\n",
              "    </tr>\n",
              "  </thead>\n",
              "  <tbody>\n",
              "    <tr>\n",
              "      <th>0</th>\n",
              "      <td>Tiffany Ramirez</td>\n",
              "      <td>81</td>\n",
              "      <td>Female</td>\n",
              "      <td>O-</td>\n",
              "      <td>Diabetes</td>\n",
              "      <td>2022-11-17</td>\n",
              "      <td>Patrick Parker</td>\n",
              "      <td>Wallace-Hamilton</td>\n",
              "      <td>Medicare</td>\n",
              "      <td>37490.983364</td>\n",
              "      <td>146</td>\n",
              "      <td>Elective</td>\n",
              "      <td>2022-12-01</td>\n",
              "      <td>Aspirin</td>\n",
              "      <td>Inconclusive</td>\n",
              "    </tr>\n",
              "    <tr>\n",
              "      <th>1</th>\n",
              "      <td>Ruben Burns</td>\n",
              "      <td>35</td>\n",
              "      <td>Male</td>\n",
              "      <td>O+</td>\n",
              "      <td>Asthma</td>\n",
              "      <td>2023-06-01</td>\n",
              "      <td>Diane Jackson</td>\n",
              "      <td>Burke, Griffin and Cooper</td>\n",
              "      <td>UnitedHealthcare</td>\n",
              "      <td>47304.064845</td>\n",
              "      <td>404</td>\n",
              "      <td>Emergency</td>\n",
              "      <td>2023-06-15</td>\n",
              "      <td>Lipitor</td>\n",
              "      <td>Normal</td>\n",
              "    </tr>\n",
              "    <tr>\n",
              "      <th>2</th>\n",
              "      <td>Chad Byrd</td>\n",
              "      <td>61</td>\n",
              "      <td>Male</td>\n",
              "      <td>B-</td>\n",
              "      <td>Obesity</td>\n",
              "      <td>2019-01-09</td>\n",
              "      <td>Paul Baker</td>\n",
              "      <td>Walton LLC</td>\n",
              "      <td>Medicare</td>\n",
              "      <td>36874.896997</td>\n",
              "      <td>292</td>\n",
              "      <td>Emergency</td>\n",
              "      <td>2019-02-08</td>\n",
              "      <td>Lipitor</td>\n",
              "      <td>Normal</td>\n",
              "    </tr>\n",
              "    <tr>\n",
              "      <th>3</th>\n",
              "      <td>Antonio Frederick</td>\n",
              "      <td>49</td>\n",
              "      <td>Male</td>\n",
              "      <td>B-</td>\n",
              "      <td>Asthma</td>\n",
              "      <td>2020-05-02</td>\n",
              "      <td>Brian Chandler</td>\n",
              "      <td>Garcia Ltd</td>\n",
              "      <td>Medicare</td>\n",
              "      <td>23303.322092</td>\n",
              "      <td>480</td>\n",
              "      <td>Urgent</td>\n",
              "      <td>2020-05-03</td>\n",
              "      <td>Penicillin</td>\n",
              "      <td>Abnormal</td>\n",
              "    </tr>\n",
              "    <tr>\n",
              "      <th>4</th>\n",
              "      <td>Mrs. Brandy Flowers</td>\n",
              "      <td>51</td>\n",
              "      <td>Male</td>\n",
              "      <td>O-</td>\n",
              "      <td>Arthritis</td>\n",
              "      <td>2021-07-09</td>\n",
              "      <td>Dustin Griffin</td>\n",
              "      <td>Jones, Brown and Murray</td>\n",
              "      <td>UnitedHealthcare</td>\n",
              "      <td>18086.344184</td>\n",
              "      <td>477</td>\n",
              "      <td>Urgent</td>\n",
              "      <td>2021-08-02</td>\n",
              "      <td>Paracetamol</td>\n",
              "      <td>Normal</td>\n",
              "    </tr>\n",
              "  </tbody>\n",
              "</table>\n",
              "</div>"
            ],
            "text/plain": [
              "                  Name  Age  Gender Blood Type Medical Condition  \\\n",
              "0      Tiffany Ramirez   81  Female         O-          Diabetes   \n",
              "1          Ruben Burns   35    Male         O+            Asthma   \n",
              "2            Chad Byrd   61    Male         B-           Obesity   \n",
              "3    Antonio Frederick   49    Male         B-            Asthma   \n",
              "4  Mrs. Brandy Flowers   51    Male         O-         Arthritis   \n",
              "\n",
              "  Date of Admission          Doctor                   Hospital  \\\n",
              "0        2022-11-17  Patrick Parker           Wallace-Hamilton   \n",
              "1        2023-06-01   Diane Jackson  Burke, Griffin and Cooper   \n",
              "2        2019-01-09      Paul Baker                 Walton LLC   \n",
              "3        2020-05-02  Brian Chandler                 Garcia Ltd   \n",
              "4        2021-07-09  Dustin Griffin    Jones, Brown and Murray   \n",
              "\n",
              "  Insurance Provider  Billing Amount  Room Number Admission Type  \\\n",
              "0           Medicare    37490.983364          146       Elective   \n",
              "1   UnitedHealthcare    47304.064845          404      Emergency   \n",
              "2           Medicare    36874.896997          292      Emergency   \n",
              "3           Medicare    23303.322092          480         Urgent   \n",
              "4   UnitedHealthcare    18086.344184          477         Urgent   \n",
              "\n",
              "  Discharge Date   Medication  Test Results  \n",
              "0     2022-12-01      Aspirin  Inconclusive  \n",
              "1     2023-06-15      Lipitor        Normal  \n",
              "2     2019-02-08      Lipitor        Normal  \n",
              "3     2020-05-03   Penicillin      Abnormal  \n",
              "4     2021-08-02  Paracetamol        Normal  "
            ]
          },
          "execution_count": 5,
          "metadata": {},
          "output_type": "execute_result"
        }
      ],
      "source": [
        "df.head()"
      ]
    },
    {
      "cell_type": "code",
      "execution_count": 6,
      "metadata": {
        "colab": {
          "base_uri": "https://localhost:8080/"
        },
        "id": "M59L_AYOOfxW",
        "outputId": "08a4da7c-af85-4bfc-d2ac-24f2a43195f4"
      },
      "outputs": [
        {
          "name": "stdout",
          "output_type": "stream",
          "text": [
            "<class 'pandas.core.frame.DataFrame'>\n",
            "RangeIndex: 10000 entries, 0 to 9999\n",
            "Data columns (total 15 columns):\n",
            " #   Column              Non-Null Count  Dtype  \n",
            "---  ------              --------------  -----  \n",
            " 0   Name                10000 non-null  object \n",
            " 1   Age                 10000 non-null  int64  \n",
            " 2   Gender              10000 non-null  object \n",
            " 3   Blood Type          10000 non-null  object \n",
            " 4   Medical Condition   10000 non-null  object \n",
            " 5   Date of Admission   10000 non-null  object \n",
            " 6   Doctor              10000 non-null  object \n",
            " 7   Hospital            10000 non-null  object \n",
            " 8   Insurance Provider  10000 non-null  object \n",
            " 9   Billing Amount      10000 non-null  float64\n",
            " 10  Room Number         10000 non-null  int64  \n",
            " 11  Admission Type      10000 non-null  object \n",
            " 12  Discharge Date      10000 non-null  object \n",
            " 13  Medication          10000 non-null  object \n",
            " 14  Test Results        10000 non-null  object \n",
            "dtypes: float64(1), int64(2), object(12)\n",
            "memory usage: 1.1+ MB\n"
          ]
        }
      ],
      "source": [
        "df.info()"
      ]
    },
    {
      "cell_type": "code",
      "execution_count": 7,
      "metadata": {
        "colab": {
          "base_uri": "https://localhost:8080/"
        },
        "id": "i8qPzO61PMqF",
        "outputId": "f220b044-d24a-4322-807e-167fcce2fa74"
      },
      "outputs": [
        {
          "name": "stdout",
          "output_type": "stream",
          "text": [
            "Number Of Duplicated data:  0\n"
          ]
        }
      ],
      "source": [
        "print(\"Number Of Duplicated data: \", df.duplicated().sum())"
      ]
    },
    {
      "cell_type": "code",
      "execution_count": 8,
      "metadata": {
        "colab": {
          "base_uri": "https://localhost:8080/",
          "height": 429
        },
        "id": "4Duq-lUcPV0N",
        "outputId": "57187e92-0339-4510-869d-1be952861109"
      },
      "outputs": [
        {
          "data": {
            "text/html": [
              "<div>\n",
              "<style scoped>\n",
              "    .dataframe tbody tr th:only-of-type {\n",
              "        vertical-align: middle;\n",
              "    }\n",
              "\n",
              "    .dataframe tbody tr th {\n",
              "        vertical-align: top;\n",
              "    }\n",
              "\n",
              "    .dataframe thead th {\n",
              "        text-align: right;\n",
              "    }\n",
              "</style>\n",
              "<table border=\"1\" class=\"dataframe\">\n",
              "  <thead>\n",
              "    <tr style=\"text-align: right;\">\n",
              "      <th></th>\n",
              "      <th>Name</th>\n",
              "      <th>Age</th>\n",
              "      <th>Gender</th>\n",
              "      <th>Blood Type</th>\n",
              "      <th>Medical Condition</th>\n",
              "      <th>Date of Admission</th>\n",
              "      <th>Doctor</th>\n",
              "      <th>Hospital</th>\n",
              "      <th>Insurance Provider</th>\n",
              "      <th>Billing Amount</th>\n",
              "      <th>Room Number</th>\n",
              "      <th>Admission Type</th>\n",
              "      <th>Discharge Date</th>\n",
              "      <th>Medication</th>\n",
              "      <th>Test Results</th>\n",
              "    </tr>\n",
              "  </thead>\n",
              "  <tbody>\n",
              "    <tr>\n",
              "      <th>count</th>\n",
              "      <td>10000</td>\n",
              "      <td>10000.000000</td>\n",
              "      <td>10000</td>\n",
              "      <td>10000</td>\n",
              "      <td>10000</td>\n",
              "      <td>10000</td>\n",
              "      <td>10000</td>\n",
              "      <td>10000</td>\n",
              "      <td>10000</td>\n",
              "      <td>10000.000000</td>\n",
              "      <td>10000.000000</td>\n",
              "      <td>10000</td>\n",
              "      <td>10000</td>\n",
              "      <td>10000</td>\n",
              "      <td>10000</td>\n",
              "    </tr>\n",
              "    <tr>\n",
              "      <th>unique</th>\n",
              "      <td>9378</td>\n",
              "      <td>NaN</td>\n",
              "      <td>2</td>\n",
              "      <td>8</td>\n",
              "      <td>6</td>\n",
              "      <td>1815</td>\n",
              "      <td>9416</td>\n",
              "      <td>8639</td>\n",
              "      <td>5</td>\n",
              "      <td>NaN</td>\n",
              "      <td>NaN</td>\n",
              "      <td>3</td>\n",
              "      <td>1834</td>\n",
              "      <td>5</td>\n",
              "      <td>3</td>\n",
              "    </tr>\n",
              "    <tr>\n",
              "      <th>top</th>\n",
              "      <td>Michael Johnson</td>\n",
              "      <td>NaN</td>\n",
              "      <td>Female</td>\n",
              "      <td>AB-</td>\n",
              "      <td>Asthma</td>\n",
              "      <td>2019-04-12</td>\n",
              "      <td>Michael Johnson</td>\n",
              "      <td>Smith PLC</td>\n",
              "      <td>Cigna</td>\n",
              "      <td>NaN</td>\n",
              "      <td>NaN</td>\n",
              "      <td>Urgent</td>\n",
              "      <td>2021-11-28</td>\n",
              "      <td>Penicillin</td>\n",
              "      <td>Abnormal</td>\n",
              "    </tr>\n",
              "    <tr>\n",
              "      <th>freq</th>\n",
              "      <td>7</td>\n",
              "      <td>NaN</td>\n",
              "      <td>5075</td>\n",
              "      <td>1275</td>\n",
              "      <td>1708</td>\n",
              "      <td>15</td>\n",
              "      <td>7</td>\n",
              "      <td>19</td>\n",
              "      <td>2040</td>\n",
              "      <td>NaN</td>\n",
              "      <td>NaN</td>\n",
              "      <td>3391</td>\n",
              "      <td>14</td>\n",
              "      <td>2079</td>\n",
              "      <td>3456</td>\n",
              "    </tr>\n",
              "    <tr>\n",
              "      <th>mean</th>\n",
              "      <td>NaN</td>\n",
              "      <td>51.452200</td>\n",
              "      <td>NaN</td>\n",
              "      <td>NaN</td>\n",
              "      <td>NaN</td>\n",
              "      <td>NaN</td>\n",
              "      <td>NaN</td>\n",
              "      <td>NaN</td>\n",
              "      <td>NaN</td>\n",
              "      <td>25516.806778</td>\n",
              "      <td>300.082000</td>\n",
              "      <td>NaN</td>\n",
              "      <td>NaN</td>\n",
              "      <td>NaN</td>\n",
              "      <td>NaN</td>\n",
              "    </tr>\n",
              "    <tr>\n",
              "      <th>std</th>\n",
              "      <td>NaN</td>\n",
              "      <td>19.588974</td>\n",
              "      <td>NaN</td>\n",
              "      <td>NaN</td>\n",
              "      <td>NaN</td>\n",
              "      <td>NaN</td>\n",
              "      <td>NaN</td>\n",
              "      <td>NaN</td>\n",
              "      <td>NaN</td>\n",
              "      <td>14067.292709</td>\n",
              "      <td>115.806027</td>\n",
              "      <td>NaN</td>\n",
              "      <td>NaN</td>\n",
              "      <td>NaN</td>\n",
              "      <td>NaN</td>\n",
              "    </tr>\n",
              "    <tr>\n",
              "      <th>min</th>\n",
              "      <td>NaN</td>\n",
              "      <td>18.000000</td>\n",
              "      <td>NaN</td>\n",
              "      <td>NaN</td>\n",
              "      <td>NaN</td>\n",
              "      <td>NaN</td>\n",
              "      <td>NaN</td>\n",
              "      <td>NaN</td>\n",
              "      <td>NaN</td>\n",
              "      <td>1000.180837</td>\n",
              "      <td>101.000000</td>\n",
              "      <td>NaN</td>\n",
              "      <td>NaN</td>\n",
              "      <td>NaN</td>\n",
              "      <td>NaN</td>\n",
              "    </tr>\n",
              "    <tr>\n",
              "      <th>25%</th>\n",
              "      <td>NaN</td>\n",
              "      <td>35.000000</td>\n",
              "      <td>NaN</td>\n",
              "      <td>NaN</td>\n",
              "      <td>NaN</td>\n",
              "      <td>NaN</td>\n",
              "      <td>NaN</td>\n",
              "      <td>NaN</td>\n",
              "      <td>NaN</td>\n",
              "      <td>13506.523967</td>\n",
              "      <td>199.000000</td>\n",
              "      <td>NaN</td>\n",
              "      <td>NaN</td>\n",
              "      <td>NaN</td>\n",
              "      <td>NaN</td>\n",
              "    </tr>\n",
              "    <tr>\n",
              "      <th>50%</th>\n",
              "      <td>NaN</td>\n",
              "      <td>52.000000</td>\n",
              "      <td>NaN</td>\n",
              "      <td>NaN</td>\n",
              "      <td>NaN</td>\n",
              "      <td>NaN</td>\n",
              "      <td>NaN</td>\n",
              "      <td>NaN</td>\n",
              "      <td>NaN</td>\n",
              "      <td>25258.112566</td>\n",
              "      <td>299.000000</td>\n",
              "      <td>NaN</td>\n",
              "      <td>NaN</td>\n",
              "      <td>NaN</td>\n",
              "      <td>NaN</td>\n",
              "    </tr>\n",
              "    <tr>\n",
              "      <th>75%</th>\n",
              "      <td>NaN</td>\n",
              "      <td>68.000000</td>\n",
              "      <td>NaN</td>\n",
              "      <td>NaN</td>\n",
              "      <td>NaN</td>\n",
              "      <td>NaN</td>\n",
              "      <td>NaN</td>\n",
              "      <td>NaN</td>\n",
              "      <td>NaN</td>\n",
              "      <td>37733.913727</td>\n",
              "      <td>400.000000</td>\n",
              "      <td>NaN</td>\n",
              "      <td>NaN</td>\n",
              "      <td>NaN</td>\n",
              "      <td>NaN</td>\n",
              "    </tr>\n",
              "    <tr>\n",
              "      <th>max</th>\n",
              "      <td>NaN</td>\n",
              "      <td>85.000000</td>\n",
              "      <td>NaN</td>\n",
              "      <td>NaN</td>\n",
              "      <td>NaN</td>\n",
              "      <td>NaN</td>\n",
              "      <td>NaN</td>\n",
              "      <td>NaN</td>\n",
              "      <td>NaN</td>\n",
              "      <td>49995.902283</td>\n",
              "      <td>500.000000</td>\n",
              "      <td>NaN</td>\n",
              "      <td>NaN</td>\n",
              "      <td>NaN</td>\n",
              "      <td>NaN</td>\n",
              "    </tr>\n",
              "  </tbody>\n",
              "</table>\n",
              "</div>"
            ],
            "text/plain": [
              "                   Name           Age  Gender Blood Type Medical Condition  \\\n",
              "count             10000  10000.000000   10000      10000             10000   \n",
              "unique             9378           NaN       2          8                 6   \n",
              "top     Michael Johnson           NaN  Female        AB-            Asthma   \n",
              "freq                  7           NaN    5075       1275              1708   \n",
              "mean                NaN     51.452200     NaN        NaN               NaN   \n",
              "std                 NaN     19.588974     NaN        NaN               NaN   \n",
              "min                 NaN     18.000000     NaN        NaN               NaN   \n",
              "25%                 NaN     35.000000     NaN        NaN               NaN   \n",
              "50%                 NaN     52.000000     NaN        NaN               NaN   \n",
              "75%                 NaN     68.000000     NaN        NaN               NaN   \n",
              "max                 NaN     85.000000     NaN        NaN               NaN   \n",
              "\n",
              "       Date of Admission           Doctor   Hospital Insurance Provider  \\\n",
              "count              10000            10000      10000              10000   \n",
              "unique              1815             9416       8639                  5   \n",
              "top           2019-04-12  Michael Johnson  Smith PLC              Cigna   \n",
              "freq                  15                7         19               2040   \n",
              "mean                 NaN              NaN        NaN                NaN   \n",
              "std                  NaN              NaN        NaN                NaN   \n",
              "min                  NaN              NaN        NaN                NaN   \n",
              "25%                  NaN              NaN        NaN                NaN   \n",
              "50%                  NaN              NaN        NaN                NaN   \n",
              "75%                  NaN              NaN        NaN                NaN   \n",
              "max                  NaN              NaN        NaN                NaN   \n",
              "\n",
              "        Billing Amount   Room Number Admission Type Discharge Date  \\\n",
              "count     10000.000000  10000.000000          10000          10000   \n",
              "unique             NaN           NaN              3           1834   \n",
              "top                NaN           NaN         Urgent     2021-11-28   \n",
              "freq               NaN           NaN           3391             14   \n",
              "mean      25516.806778    300.082000            NaN            NaN   \n",
              "std       14067.292709    115.806027            NaN            NaN   \n",
              "min        1000.180837    101.000000            NaN            NaN   \n",
              "25%       13506.523967    199.000000            NaN            NaN   \n",
              "50%       25258.112566    299.000000            NaN            NaN   \n",
              "75%       37733.913727    400.000000            NaN            NaN   \n",
              "max       49995.902283    500.000000            NaN            NaN   \n",
              "\n",
              "        Medication Test Results  \n",
              "count        10000        10000  \n",
              "unique           5            3  \n",
              "top     Penicillin     Abnormal  \n",
              "freq          2079         3456  \n",
              "mean           NaN          NaN  \n",
              "std            NaN          NaN  \n",
              "min            NaN          NaN  \n",
              "25%            NaN          NaN  \n",
              "50%            NaN          NaN  \n",
              "75%            NaN          NaN  \n",
              "max            NaN          NaN  "
            ]
          },
          "execution_count": 8,
          "metadata": {},
          "output_type": "execute_result"
        }
      ],
      "source": [
        "df.describe(include=\"all\")"
      ]
    },
    {
      "cell_type": "code",
      "execution_count": 9,
      "metadata": {
        "colab": {
          "base_uri": "https://localhost:8080/"
        },
        "id": "sIVI_XVWSJGT",
        "outputId": "da32d0fc-04e5-49a2-ba44-deb092adb9a2"
      },
      "outputs": [
        {
          "data": {
            "text/plain": [
              "array(['Inconclusive', 'Normal', 'Abnormal'], dtype=object)"
            ]
          },
          "execution_count": 9,
          "metadata": {},
          "output_type": "execute_result"
        }
      ],
      "source": [
        "df['Test Results'].unique()"
      ]
    },
    {
      "cell_type": "code",
      "execution_count": 10,
      "metadata": {
        "colab": {
          "base_uri": "https://localhost:8080/",
          "height": 564
        },
        "id": "95zGi-MHPkqy",
        "outputId": "6ea02165-c8f7-44ea-e3a8-5c66a5d9cedf"
      },
      "outputs": [
        {
          "data": {
            "image/png": "[encoded data removed]",
            "text/plain": [
              "<Figure size 720x432 with 1 Axes>"
            ]
          },
          "metadata": {
            "needs_background": "light"
          },
          "output_type": "display_data"
        }
      ],
      "source": [
        "plt.figure(figsize=(10, 6))\n",
        "plt.hist(df['Age'], bins=10, color='skyblue', edgecolor='black')\n",
        "plt.title('Age Distribution')\n",
        "plt.xlabel('Age')\n",
        "plt.ylabel('Frequency')\n",
        "plt.grid(axis='y', linestyle='--', alpha=0.7)\n",
        "plt.show()"
      ]
    },
    {
      "cell_type": "code",
      "execution_count": 11,
      "metadata": {
        "colab": {
          "base_uri": "https://localhost:8080/",
          "height": 697
        },
        "id": "Dse2EhKPRRTI",
        "outputId": "9ff97cc8-d650-4ee7-e1f4-74ccd75714c8"
      },
      "outputs": [
        {
          "data": {
            "image/png": "[encoded data removed]",
            "text/plain": [
              "<Figure size 1584x576 with 1 Axes>"
            ]
          },
          "metadata": {
            "needs_background": "light"
          },
          "output_type": "display_data"
        }
      ],
      "source": [
        "fig, ax = plt.subplots(figsize=(22, 8))\n",
        "sns.boxplot(data=df, x='Age', y='Medical Condition', hue='Test Results', orient='h', ax=ax)\n",
        "ax.invert_yaxis()\n",
        "ax.set_title('Age By Medical Condition', fontsize='14')\n",
        "plt.show()"
      ]
    },
    {
      "cell_type": "code",
      "execution_count": 12,
      "metadata": {
        "colab": {
          "base_uri": "https://localhost:8080/",
          "height": 565
        },
        "id": "b7B03ZbiSnPC",
        "outputId": "46cae02e-933f-4993-ad48-c0331fa742f8"
      },
      "outputs": [
        {
          "data": {
            "image/png": "[encoded data removed]",
            "text/plain": [
              "<Figure size 720x432 with 1 Axes>"
            ]
          },
          "metadata": {
            "needs_background": "light"
          },
          "output_type": "display_data"
        }
      ],
      "source": [
        "contingency_table = pd.crosstab(df['Medical Condition'], df['Medication'])\n",
        "\n",
        "plt.figure(figsize=(10, 6))\n",
        "sns.heatmap(contingency_table, annot=True, cmap='YlGnBu', fmt='g', cbar=False)\n",
        "plt.title('Correlation between Medical Condition and Medication', fontsize=14)\n",
        "plt.xlabel('Medication')\n",
        "plt.ylabel('Medical Condition')\n",
        "\n",
        "plt.show()"
      ]
    },
    {
      "cell_type": "markdown",
      "metadata": {},
      "source": [
        "## Modelling"
      ]
    },
    {
      "cell_type": "markdown",
      "metadata": {},
      "source": [
        "### choose features"
      ]
    },
    {
      "cell_type": "code",
      "execution_count": 13,
      "metadata": {
        "colab": {
          "base_uri": "https://localhost:8080/",
          "height": 206
        },
        "id": "3J3fsgA2UU4o",
        "outputId": "e8d88915-6bba-4268-9a47-cdc9646735cb"
      },
      "outputs": [
        {
          "data": {
            "text/html": [
              "<div>\n",
              "<style scoped>\n",
              "    .dataframe tbody tr th:only-of-type {\n",
              "        vertical-align: middle;\n",
              "    }\n",
              "\n",
              "    .dataframe tbody tr th {\n",
              "        vertical-align: top;\n",
              "    }\n",
              "\n",
              "    .dataframe thead th {\n",
              "        text-align: right;\n",
              "    }\n",
              "</style>\n",
              "<table border=\"1\" class=\"dataframe\">\n",
              "  <thead>\n",
              "    <tr style=\"text-align: right;\">\n",
              "      <th></th>\n",
              "      <th>Age</th>\n",
              "      <th>Gender</th>\n",
              "      <th>Blood Type</th>\n",
              "      <th>Medical Condition</th>\n",
              "      <th>Admission Type</th>\n",
              "      <th>Medication</th>\n",
              "      <th>Test Results</th>\n",
              "    </tr>\n",
              "  </thead>\n",
              "  <tbody>\n",
              "    <tr>\n",
              "      <th>0</th>\n",
              "      <td>81</td>\n",
              "      <td>Female</td>\n",
              "      <td>O-</td>\n",
              "      <td>Diabetes</td>\n",
              "      <td>Elective</td>\n",
              "      <td>Aspirin</td>\n",
              "      <td>Inconclusive</td>\n",
              "    </tr>\n",
              "    <tr>\n",
              "      <th>1</th>\n",
              "      <td>35</td>\n",
              "      <td>Male</td>\n",
              "      <td>O+</td>\n",
              "      <td>Asthma</td>\n",
              "      <td>Emergency</td>\n",
              "      <td>Lipitor</td>\n",
              "      <td>Normal</td>\n",
              "    </tr>\n",
              "    <tr>\n",
              "      <th>2</th>\n",
              "      <td>61</td>\n",
              "      <td>Male</td>\n",
              "      <td>B-</td>\n",
              "      <td>Obesity</td>\n",
              "      <td>Emergency</td>\n",
              "      <td>Lipitor</td>\n",
              "      <td>Normal</td>\n",
              "    </tr>\n",
              "    <tr>\n",
              "      <th>3</th>\n",
              "      <td>49</td>\n",
              "      <td>Male</td>\n",
              "      <td>B-</td>\n",
              "      <td>Asthma</td>\n",
              "      <td>Urgent</td>\n",
              "      <td>Penicillin</td>\n",
              "      <td>Abnormal</td>\n",
              "    </tr>\n",
              "    <tr>\n",
              "      <th>4</th>\n",
              "      <td>51</td>\n",
              "      <td>Male</td>\n",
              "      <td>O-</td>\n",
              "      <td>Arthritis</td>\n",
              "      <td>Urgent</td>\n",
              "      <td>Paracetamol</td>\n",
              "      <td>Normal</td>\n",
              "    </tr>\n",
              "  </tbody>\n",
              "</table>\n",
              "</div>"
            ],
            "text/plain": [
              "   Age  Gender Blood Type Medical Condition Admission Type   Medication  \\\n",
              "0   81  Female         O-          Diabetes       Elective      Aspirin   \n",
              "1   35    Male         O+            Asthma      Emergency      Lipitor   \n",
              "2   61    Male         B-           Obesity      Emergency      Lipitor   \n",
              "3   49    Male         B-            Asthma         Urgent   Penicillin   \n",
              "4   51    Male         O-         Arthritis         Urgent  Paracetamol   \n",
              "\n",
              "   Test Results  \n",
              "0  Inconclusive  \n",
              "1        Normal  \n",
              "2        Normal  \n",
              "3      Abnormal  \n",
              "4        Normal  "
            ]
          },
          "execution_count": 13,
          "metadata": {},
          "output_type": "execute_result"
        }
      ],
      "source": [
        "df = df[[ 'Age', 'Gender', 'Blood Type', 'Medical Condition', 'Admission Type', 'Medication', 'Test Results']]\n",
        "df.head()"
      ]
    },
    {
      "cell_type": "code",
      "execution_count": 14,
      "metadata": {
        "id": "gI9Tl4V9YtqX"
      },
      "outputs": [],
      "source": [
        "df = df.rename(columns={'Age': 'age',\n",
        "                        'Gender': 'gender',\n",
        "                        'Blood Type': 'blood_type',\n",
        "                        'Medical Condition': 'medical_condition',\n",
        "                        'Admission Type': 'admission_type',\n",
        "                        'Medication': 'medication',\n",
        "                        'Test Results': 'test_result'})"
      ]
    },
    {
      "cell_type": "code",
      "execution_count": 15,
      "metadata": {
        "colab": {
          "base_uri": "https://localhost:8080/",
          "height": 206
        },
        "id": "AZVkr3mhHbgN",
        "outputId": "bfd79a10-51da-442e-eed6-f2c16f53be75"
      },
      "outputs": [
        {
          "data": {
            "text/html": [
              "<div>\n",
              "<style scoped>\n",
              "    .dataframe tbody tr th:only-of-type {\n",
              "        vertical-align: middle;\n",
              "    }\n",
              "\n",
              "    .dataframe tbody tr th {\n",
              "        vertical-align: top;\n",
              "    }\n",
              "\n",
              "    .dataframe thead th {\n",
              "        text-align: right;\n",
              "    }\n",
              "</style>\n",
              "<table border=\"1\" class=\"dataframe\">\n",
              "  <thead>\n",
              "    <tr style=\"text-align: right;\">\n",
              "      <th></th>\n",
              "      <th>age</th>\n",
              "      <th>gender</th>\n",
              "      <th>blood_type</th>\n",
              "      <th>medical_condition</th>\n",
              "      <th>admission_type</th>\n",
              "      <th>medication</th>\n",
              "      <th>test_result</th>\n",
              "    </tr>\n",
              "  </thead>\n",
              "  <tbody>\n",
              "    <tr>\n",
              "      <th>0</th>\n",
              "      <td>81</td>\n",
              "      <td>Female</td>\n",
              "      <td>O-</td>\n",
              "      <td>Diabetes</td>\n",
              "      <td>Elective</td>\n",
              "      <td>Aspirin</td>\n",
              "      <td>Inconclusive</td>\n",
              "    </tr>\n",
              "    <tr>\n",
              "      <th>1</th>\n",
              "      <td>35</td>\n",
              "      <td>Male</td>\n",
              "      <td>O+</td>\n",
              "      <td>Asthma</td>\n",
              "      <td>Emergency</td>\n",
              "      <td>Lipitor</td>\n",
              "      <td>Normal</td>\n",
              "    </tr>\n",
              "    <tr>\n",
              "      <th>2</th>\n",
              "      <td>61</td>\n",
              "      <td>Male</td>\n",
              "      <td>B-</td>\n",
              "      <td>Obesity</td>\n",
              "      <td>Emergency</td>\n",
              "      <td>Lipitor</td>\n",
              "      <td>Normal</td>\n",
              "    </tr>\n",
              "    <tr>\n",
              "      <th>3</th>\n",
              "      <td>49</td>\n",
              "      <td>Male</td>\n",
              "      <td>B-</td>\n",
              "      <td>Asthma</td>\n",
              "      <td>Urgent</td>\n",
              "      <td>Penicillin</td>\n",
              "      <td>Abnormal</td>\n",
              "    </tr>\n",
              "    <tr>\n",
              "      <th>4</th>\n",
              "      <td>51</td>\n",
              "      <td>Male</td>\n",
              "      <td>O-</td>\n",
              "      <td>Arthritis</td>\n",
              "      <td>Urgent</td>\n",
              "      <td>Paracetamol</td>\n",
              "      <td>Normal</td>\n",
              "    </tr>\n",
              "  </tbody>\n",
              "</table>\n",
              "</div>"
            ],
            "text/plain": [
              "   age  gender blood_type medical_condition admission_type   medication  \\\n",
              "0   81  Female         O-          Diabetes       Elective      Aspirin   \n",
              "1   35    Male         O+            Asthma      Emergency      Lipitor   \n",
              "2   61    Male         B-           Obesity      Emergency      Lipitor   \n",
              "3   49    Male         B-            Asthma         Urgent   Penicillin   \n",
              "4   51    Male         O-         Arthritis         Urgent  Paracetamol   \n",
              "\n",
              "    test_result  \n",
              "0  Inconclusive  \n",
              "1        Normal  \n",
              "2        Normal  \n",
              "3      Abnormal  \n",
              "4        Normal  "
            ]
          },
          "execution_count": 15,
          "metadata": {},
          "output_type": "execute_result"
        }
      ],
      "source": [
        "df.head()"
      ]
    },
    {
      "cell_type": "code",
      "execution_count": 16,
      "metadata": {
        "colab": {
          "base_uri": "https://localhost:8080/"
        },
        "id": "mRI5WBflHcy_",
        "outputId": "540a0240-5b47-4418-e3cd-e70b8a059495"
      },
      "outputs": [
        {
          "name": "stdout",
          "output_type": "stream",
          "text": [
            "Unique values for age: [81 35 61 49 51 41 82 55 33 39 45 23 85 72 65 32 64 66 80 79 54 26 70 74\n",
            " 56 37 78 83 30 19 46 48 34 84 47 60 57 21 27 68 31 42 71 38 28 43 69 73\n",
            " 67 44 20 59 76 40 36 29 53 77 24 75 25 62 52 50 22 63 58 18]\n",
            "Unique values for gender: ['Female' 'Male']\n",
            "Unique values for blood_type: ['O-' 'O+' 'B-' 'AB+' 'A+' 'AB-' 'A-' 'B+']\n",
            "Unique values for medical_condition: ['Diabetes' 'Asthma' 'Obesity' 'Arthritis' 'Hypertension' 'Cancer']\n",
            "Unique values for admission_type: ['Elective' 'Emergency' 'Urgent']\n",
            "Unique values for medication: ['Aspirin' 'Lipitor' 'Penicillin' 'Paracetamol' 'Ibuprofen']\n",
            "Unique values for test_result: ['Inconclusive' 'Normal' 'Abnormal']\n"
          ]
        }
      ],
      "source": [
        "unique_values = {}\n",
        "for column in df.columns:\n",
        "    unique_values[column] = df[column].unique()\n",
        "\n",
        "for column, values in unique_values.items():\n",
        "    print(f'Unique values for {column}: {values}')"
      ]
    },
    {
      "cell_type": "markdown",
      "metadata": {},
      "source": [
        "### label encoder"
      ]
    },
    {
      "cell_type": "code",
      "execution_count": 17,
      "metadata": {
        "id": "6j0W1VTMHiOt"
      },
      "outputs": [],
      "source": [
        "string_columns = ['gender', 'blood_type', 'medical_condition', 'admission_type', 'medication', 'test_result']\n",
        "\n",
        "label_encoder = LabelEncoder()\n",
        "\n",
        "for column in string_columns:\n",
        "    df[column] = label_encoder.fit_transform(df[column])"
      ]
    },
    {
      "cell_type": "code",
      "execution_count": 18,
      "metadata": {
        "colab": {
          "base_uri": "https://localhost:8080/",
          "height": 206
        },
        "id": "21kFn-aTH9kE",
        "outputId": "759c7c2d-de8f-4750-d32c-253e495bc051"
      },
      "outputs": [
        {
          "data": {
            "text/html": [
              "<div>\n",
              "<style scoped>\n",
              "    .dataframe tbody tr th:only-of-type {\n",
              "        vertical-align: middle;\n",
              "    }\n",
              "\n",
              "    .dataframe tbody tr th {\n",
              "        vertical-align: top;\n",
              "    }\n",
              "\n",
              "    .dataframe thead th {\n",
              "        text-align: right;\n",
              "    }\n",
              "</style>\n",
              "<table border=\"1\" class=\"dataframe\">\n",
              "  <thead>\n",
              "    <tr style=\"text-align: right;\">\n",
              "      <th></th>\n",
              "      <th>age</th>\n",
              "      <th>gender</th>\n",
              "      <th>blood_type</th>\n",
              "      <th>medical_condition</th>\n",
              "      <th>admission_type</th>\n",
              "      <th>medication</th>\n",
              "      <th>test_result</th>\n",
              "    </tr>\n",
              "  </thead>\n",
              "  <tbody>\n",
              "    <tr>\n",
              "      <th>0</th>\n",
              "      <td>81</td>\n",
              "      <td>0</td>\n",
              "      <td>7</td>\n",
              "      <td>3</td>\n",
              "      <td>0</td>\n",
              "      <td>0</td>\n",
              "      <td>1</td>\n",
              "    </tr>\n",
              "    <tr>\n",
              "      <th>1</th>\n",
              "      <td>35</td>\n",
              "      <td>1</td>\n",
              "      <td>6</td>\n",
              "      <td>1</td>\n",
              "      <td>1</td>\n",
              "      <td>2</td>\n",
              "      <td>2</td>\n",
              "    </tr>\n",
              "    <tr>\n",
              "      <th>2</th>\n",
              "      <td>61</td>\n",
              "      <td>1</td>\n",
              "      <td>5</td>\n",
              "      <td>5</td>\n",
              "      <td>1</td>\n",
              "      <td>2</td>\n",
              "      <td>2</td>\n",
              "    </tr>\n",
              "    <tr>\n",
              "      <th>3</th>\n",
              "      <td>49</td>\n",
              "      <td>1</td>\n",
              "      <td>5</td>\n",
              "      <td>1</td>\n",
              "      <td>2</td>\n",
              "      <td>4</td>\n",
              "      <td>0</td>\n",
              "    </tr>\n",
              "    <tr>\n",
              "      <th>4</th>\n",
              "      <td>51</td>\n",
              "      <td>1</td>\n",
              "      <td>7</td>\n",
              "      <td>0</td>\n",
              "      <td>2</td>\n",
              "      <td>3</td>\n",
              "      <td>2</td>\n",
              "    </tr>\n",
              "  </tbody>\n",
              "</table>\n",
              "</div>"
            ],
            "text/plain": [
              "   age  gender  blood_type  medical_condition  admission_type  medication  \\\n",
              "0   81       0           7                  3               0           0   \n",
              "1   35       1           6                  1               1           2   \n",
              "2   61       1           5                  5               1           2   \n",
              "3   49       1           5                  1               2           4   \n",
              "4   51       1           7                  0               2           3   \n",
              "\n",
              "   test_result  \n",
              "0            1  \n",
              "1            2  \n",
              "2            2  \n",
              "3            0  \n",
              "4            2  "
            ]
          },
          "execution_count": 18,
          "metadata": {},
          "output_type": "execute_result"
        }
      ],
      "source": [
        "df.head()"
      ]
    },
    {
      "cell_type": "code",
      "execution_count": 19,
      "metadata": {
        "colab": {
          "base_uri": "https://localhost:8080/",
          "height": 256
        },
        "id": "blf6oCbiIEqK",
        "outputId": "75ec6fcb-c408-4594-c43e-65d92ca65f9b"
      },
      "outputs": [
        {
          "data": {
            "text/html": [
              "<div>\n",
              "<style scoped>\n",
              "    .dataframe tbody tr th:only-of-type {\n",
              "        vertical-align: middle;\n",
              "    }\n",
              "\n",
              "    .dataframe tbody tr th {\n",
              "        vertical-align: top;\n",
              "    }\n",
              "\n",
              "    .dataframe thead th {\n",
              "        text-align: right;\n",
              "    }\n",
              "</style>\n",
              "<table border=\"1\" class=\"dataframe\">\n",
              "  <thead>\n",
              "    <tr style=\"text-align: right;\">\n",
              "      <th></th>\n",
              "      <th>age</th>\n",
              "      <th>gender</th>\n",
              "      <th>blood_type</th>\n",
              "      <th>medical_condition</th>\n",
              "      <th>admission_type</th>\n",
              "      <th>medication</th>\n",
              "      <th>test_result</th>\n",
              "    </tr>\n",
              "  </thead>\n",
              "  <tbody>\n",
              "    <tr>\n",
              "      <th>0</th>\n",
              "      <td>1.508465</td>\n",
              "      <td>0</td>\n",
              "      <td>7</td>\n",
              "      <td>3</td>\n",
              "      <td>0</td>\n",
              "      <td>0</td>\n",
              "      <td>1</td>\n",
              "    </tr>\n",
              "    <tr>\n",
              "      <th>1</th>\n",
              "      <td>-0.839912</td>\n",
              "      <td>1</td>\n",
              "      <td>6</td>\n",
              "      <td>1</td>\n",
              "      <td>1</td>\n",
              "      <td>2</td>\n",
              "      <td>2</td>\n",
              "    </tr>\n",
              "    <tr>\n",
              "      <th>2</th>\n",
              "      <td>0.487431</td>\n",
              "      <td>1</td>\n",
              "      <td>5</td>\n",
              "      <td>5</td>\n",
              "      <td>1</td>\n",
              "      <td>2</td>\n",
              "      <td>2</td>\n",
              "    </tr>\n",
              "    <tr>\n",
              "      <th>3</th>\n",
              "      <td>-0.125189</td>\n",
              "      <td>1</td>\n",
              "      <td>5</td>\n",
              "      <td>1</td>\n",
              "      <td>2</td>\n",
              "      <td>4</td>\n",
              "      <td>0</td>\n",
              "    </tr>\n",
              "    <tr>\n",
              "      <th>4</th>\n",
              "      <td>-0.023086</td>\n",
              "      <td>1</td>\n",
              "      <td>7</td>\n",
              "      <td>0</td>\n",
              "      <td>2</td>\n",
              "      <td>3</td>\n",
              "      <td>2</td>\n",
              "    </tr>\n",
              "  </tbody>\n",
              "</table>\n",
              "</div>"
            ],
            "text/plain": [
              "        age  gender  blood_type  medical_condition  admission_type  \\\n",
              "0  1.508465       0           7                  3               0   \n",
              "1 -0.839912       1           6                  1               1   \n",
              "2  0.487431       1           5                  5               1   \n",
              "3 -0.125189       1           5                  1               2   \n",
              "4 -0.023086       1           7                  0               2   \n",
              "\n",
              "   medication  test_result  \n",
              "0           0            1  \n",
              "1           2            2  \n",
              "2           2            2  \n",
              "3           4            0  \n",
              "4           3            2  "
            ]
          },
          "execution_count": 19,
          "metadata": {},
          "output_type": "execute_result"
        }
      ],
      "source": [
        "\n",
        "from sklearn.preprocessing import StandardScaler\n",
        "scaler = StandardScaler()\n",
        "df['age'] = scaler.fit_transform(df[['age']])\n",
        "df.head()"
      ]
    },
    {
      "cell_type": "code",
      "execution_count": 21,
      "metadata": {
        "colab": {
          "base_uri": "https://localhost:8080/",
          "height": 206
        },
        "id": "VfTWOdYiJXmE",
        "outputId": "307e2cf9-7af3-4c2e-b31b-897ed32b665b"
      },
      "outputs": [
        {
          "data": {
            "text/html": [
              "<div>\n",
              "<style scoped>\n",
              "    .dataframe tbody tr th:only-of-type {\n",
              "        vertical-align: middle;\n",
              "    }\n",
              "\n",
              "    .dataframe tbody tr th {\n",
              "        vertical-align: top;\n",
              "    }\n",
              "\n",
              "    .dataframe thead th {\n",
              "        text-align: right;\n",
              "    }\n",
              "</style>\n",
              "<table border=\"1\" class=\"dataframe\">\n",
              "  <thead>\n",
              "    <tr style=\"text-align: right;\">\n",
              "      <th></th>\n",
              "      <th>test_result</th>\n",
              "    </tr>\n",
              "  </thead>\n",
              "  <tbody>\n",
              "    <tr>\n",
              "      <th>0</th>\n",
              "      <td>1</td>\n",
              "    </tr>\n",
              "    <tr>\n",
              "      <th>1</th>\n",
              "      <td>2</td>\n",
              "    </tr>\n",
              "    <tr>\n",
              "      <th>2</th>\n",
              "      <td>2</td>\n",
              "    </tr>\n",
              "    <tr>\n",
              "      <th>3</th>\n",
              "      <td>0</td>\n",
              "    </tr>\n",
              "    <tr>\n",
              "      <th>4</th>\n",
              "      <td>2</td>\n",
              "    </tr>\n",
              "  </tbody>\n",
              "</table>\n",
              "</div>"
            ],
            "text/plain": [
              "   test_result\n",
              "0            1\n",
              "1            2\n",
              "2            2\n",
              "3            0\n",
              "4            2"
            ]
          },
          "execution_count": 21,
          "metadata": {},
          "output_type": "execute_result"
        }
      ],
      "source": [
        "X = df.drop('test_result', axis=1)\n",
        "y = df[['test_result']]\n",
        "\n",
        "\n",
        "y.head()"
      ]
    },
    {
      "cell_type": "code",
      "execution_count": 22,
      "metadata": {
        "colab": {
          "base_uri": "https://localhost:8080/",
          "height": 256
        },
        "id": "ZErQ78-HNcUG",
        "outputId": "2e5be093-5a62-4c9f-9b78-fc0062cf1b73"
      },
      "outputs": [
        {
          "data": {
            "text/html": [
              "<div>\n",
              "<style scoped>\n",
              "    .dataframe tbody tr th:only-of-type {\n",
              "        vertical-align: middle;\n",
              "    }\n",
              "\n",
              "    .dataframe tbody tr th {\n",
              "        vertical-align: top;\n",
              "    }\n",
              "\n",
              "    .dataframe thead th {\n",
              "        text-align: right;\n",
              "    }\n",
              "</style>\n",
              "<table border=\"1\" class=\"dataframe\">\n",
              "  <thead>\n",
              "    <tr style=\"text-align: right;\">\n",
              "      <th></th>\n",
              "      <th>age</th>\n",
              "      <th>gender</th>\n",
              "      <th>blood_type</th>\n",
              "      <th>medical_condition</th>\n",
              "      <th>admission_type</th>\n",
              "      <th>medication</th>\n",
              "    </tr>\n",
              "  </thead>\n",
              "  <tbody>\n",
              "    <tr>\n",
              "      <th>0</th>\n",
              "      <td>1.508465</td>\n",
              "      <td>0</td>\n",
              "      <td>7</td>\n",
              "      <td>3</td>\n",
              "      <td>0</td>\n",
              "      <td>0</td>\n",
              "    </tr>\n",
              "    <tr>\n",
              "      <th>1</th>\n",
              "      <td>-0.839912</td>\n",
              "      <td>1</td>\n",
              "      <td>6</td>\n",
              "      <td>1</td>\n",
              "      <td>1</td>\n",
              "      <td>2</td>\n",
              "    </tr>\n",
              "    <tr>\n",
              "      <th>2</th>\n",
              "      <td>0.487431</td>\n",
              "      <td>1</td>\n",
              "      <td>5</td>\n",
              "      <td>5</td>\n",
              "      <td>1</td>\n",
              "      <td>2</td>\n",
              "    </tr>\n",
              "    <tr>\n",
              "      <th>3</th>\n",
              "      <td>-0.125189</td>\n",
              "      <td>1</td>\n",
              "      <td>5</td>\n",
              "      <td>1</td>\n",
              "      <td>2</td>\n",
              "      <td>4</td>\n",
              "    </tr>\n",
              "    <tr>\n",
              "      <th>4</th>\n",
              "      <td>-0.023086</td>\n",
              "      <td>1</td>\n",
              "      <td>7</td>\n",
              "      <td>0</td>\n",
              "      <td>2</td>\n",
              "      <td>3</td>\n",
              "    </tr>\n",
              "  </tbody>\n",
              "</table>\n",
              "</div>"
            ],
            "text/plain": [
              "        age  gender  blood_type  medical_condition  admission_type  medication\n",
              "0  1.508465       0           7                  3               0           0\n",
              "1 -0.839912       1           6                  1               1           2\n",
              "2  0.487431       1           5                  5               1           2\n",
              "3 -0.125189       1           5                  1               2           4\n",
              "4 -0.023086       1           7                  0               2           3"
            ]
          },
          "execution_count": 22,
          "metadata": {},
          "output_type": "execute_result"
        }
      ],
      "source": [
        "X.head()"
      ]
    },
    {
      "cell_type": "code",
      "execution_count": 23,
      "metadata": {
        "id": "rEMyeihpLyxU"
      },
      "outputs": [],
      "source": [
        "X_train, X_test, y_train, y_test = train_test_split(X, y, test_size=0.2, random_state=42)"
      ]
    },
    {
      "cell_type": "code",
      "execution_count": 24,
      "metadata": {
        "colab": {
          "base_uri": "https://localhost:8080/",
          "height": 460
        },
        "id": "TNmuhRg_Nfgw",
        "outputId": "d654caab-54da-4914-f098-08934a0558d7"
      },
      "outputs": [
        {
          "data": {
            "image/png": "[encoded data removed]",
            "text/plain": [
              "<Figure size 432x288 with 1 Axes>"
            ]
          },
          "metadata": {
            "needs_background": "light"
          },
          "output_type": "display_data"
        }
      ],
      "source": [
        "\n",
        "count = y_train.value_counts()\n",
        "count.plot.bar()\n",
        "plt.ylabel('Number of records')\n",
        "plt.xlabel('Target Class')\n",
        "plt.show()"
      ]
    },
    {
      "cell_type": "markdown",
      "metadata": {},
      "source": [
        "### Random Forest"
      ]
    },
    {
      "cell_type": "code",
      "execution_count": null,
      "metadata": {
        "colab": {
          "background_save": true,
          "base_uri": "https://localhost:8080/"
        },
        "id": "xg0Zp3KCS-lz",
        "outputId": "7a6b046a-5532-4623-8c5f-1059bbbfbb72"
      },
      "outputs": [],
      "source": [
        "from sklearn.model_selection import GridSearchCV\n",
        "\n",
        "parameters = {'n_estimators': [100,1000, 1100],\n",
        "              'max_features': [\"sqrt\", \"log2\", None],\n",
        "              'max_depth': [10,20,40],\n",
        "              'criterion' :['gini', 'entropy']\n",
        "             }\n",
        "\n",
        "rf_classication = RandomForestClassifier()\n",
        "rf_classication_cv = GridSearchCV(rf_classication, parameters, cv = 10)\n",
        "rf_classication_cv.fit(X_train, y_train)"
      ]
    },
    {
      "cell_type": "code",
      "execution_count": 27,
      "metadata": {
        "colab": {
          "background_save": true
        },
        "id": "VkfjDPDbVA5a",
        "outputId": "12065fa2-45bb-4843-ba15-55791b3f931f"
      },
      "outputs": [
        {
          "name": "stdout",
          "output_type": "stream",
          "text": [
            "Tuned Random Forest Parameters: {'criterion': 'gini', 'max_depth': 20, 'max_features': 'log2', 'n_estimators': 100}\n",
            "Best score is 0.34500000000000003\n"
          ]
        }
      ],
      "source": [
        "print(\"Tuned Random Forest Parameters: {}\".format(rf_classication_cv.best_params_))\n",
        "print(\"Best score is {}\".format(rf_classication_cv.best_score_))"
      ]
    },
    {
      "cell_type": "code",
      "execution_count": 28,
      "metadata": {
        "colab": {
          "background_save": true
        },
        "id": "IqosrFsCVT8x"
      },
      "outputs": [],
      "source": [
        "predictions_rf = rf_classication_cv.predict(X_test)"
      ]
    },
    {
      "cell_type": "code",
      "execution_count": 29,
      "metadata": {},
      "outputs": [
        {
          "name": "stdout",
          "output_type": "stream",
          "text": [
            "              precision    recall  f1-score   support\n",
            "\n",
            "           0      0.352     0.353     0.352       706\n",
            "           1      0.325     0.333     0.329       636\n",
            "           2      0.336     0.327     0.331       658\n",
            "\n",
            "    accuracy                          0.338      2000\n",
            "   macro avg      0.338     0.338     0.338      2000\n",
            "weighted avg      0.338     0.338     0.338      2000\n",
            "\n"
          ]
        }
      ],
      "source": [
        "from sklearn.metrics import classification_report, confusion_matrix\n",
        "print(classification_report(y_test, predictions_rf, digits=3))"
      ]
    },
    {
      "cell_type": "code",
      "execution_count": 33,
      "metadata": {},
      "outputs": [
        {
          "data": {
            "image/png": "[encoded data removed]",
            "text/plain": [
              "<Figure size 576x432 with 2 Axes>"
            ]
          },
          "metadata": {
            "needs_background": "light"
          },
          "output_type": "display_data"
        }
      ],
      "source": [
        "cm = confusion_matrix(y_test, predictions_rf)\n",
        "\n",
        "# Plot confusion matrix\n",
        "plt.figure(figsize=(8, 6))\n",
        "sns.heatmap(cm, annot=True, fmt='g', cmap='Reds', xticklabels=[0, 1, 2], yticklabels=[0, 1, 2])\n",
        "plt.xlabel('Predicted')\n",
        "plt.ylabel('Actual')\n",
        "plt.title('Confusion Matrix')\n",
        "plt.show()"
      ]
    },
    {
      "cell_type": "markdown",
      "metadata": {},
      "source": [
        "### Decision Tree"
      ]
    },
    {
      "cell_type": "code",
      "execution_count": 36,
      "metadata": {},
      "outputs": [
        {
          "name": "stdout",
          "output_type": "stream",
          "text": [
            "Tuned Decision Tree Parameters: {'criterion': 'gini', 'max_depth': 6, 'max_features': 'auto', 'min_impurity_decrease': 0.0, 'min_samples_leaf': 6, 'splitter': 'random'}\n",
            "Best score is 0.35050000000000003\n"
          ]
        }
      ],
      "source": [
        "parameters = {\"criterion\": [\"gini\", \"entropy\"],\n",
        "              \"splitter\": [\"best\", \"random\"],\n",
        "              \"max_depth\": np.arange(1, 10),\n",
        "              \"min_samples_leaf\": np.arange(1, 10),\n",
        "              \"max_features\": [\"auto\", \"sqrt\", \"log2\", None],\n",
        "              \"min_impurity_decrease\": [0.0]\n",
        "              }\n",
        "\n",
        "tree = DecisionTreeClassifier()\n",
        "tree_cv = GridSearchCV(tree, parameters, cv = 10)\n",
        "tree_cv.fit(X_train, y_train)\n",
        "\n",
        "print(\"Tuned Decision Tree Parameters: {}\".format(tree_cv.best_params_))\n",
        "print(\"Best score is {}\".format(tree_cv.best_score_))"
      ]
    },
    {
      "cell_type": "code",
      "execution_count": 37,
      "metadata": {},
      "outputs": [],
      "source": [
        "predictions_tree = tree_cv.predict(X_test)"
      ]
    },
    {
      "cell_type": "code",
      "execution_count": 38,
      "metadata": {},
      "outputs": [
        {
          "name": "stdout",
          "output_type": "stream",
          "text": [
            "              precision    recall  f1-score   support\n",
            "\n",
            "           0      0.363     0.433     0.395       706\n",
            "           1      0.296     0.296     0.296       636\n",
            "           2      0.343     0.272     0.303       658\n",
            "\n",
            "    accuracy                          0.337      2000\n",
            "   macro avg      0.334     0.334     0.331      2000\n",
            "weighted avg      0.335     0.337     0.333      2000\n",
            "\n"
          ]
        }
      ],
      "source": [
        "print(classification_report(y_test, predictions_tree, digits=3))"
      ]
    },
    {
      "cell_type": "code",
      "execution_count": 39,
      "metadata": {},
      "outputs": [
        {
          "data": {
            "image/png": "[encoded data removed]",
            "text/plain": [
              "<Figure size 576x432 with 2 Axes>"
            ]
          },
          "metadata": {
            "needs_background": "light"
          },
          "output_type": "display_data"
        }
      ],
      "source": [
        "cm = confusion_matrix(y_test, predictions_tree)\n",
        "\n",
        "# Plot confusion matrix\n",
        "plt.figure(figsize=(8, 6))\n",
        "sns.heatmap(cm, annot=True, fmt='g', cmap='Reds', xticklabels=[0, 1, 2], yticklabels=[0, 1, 2])\n",
        "plt.xlabel('Predicted')\n",
        "plt.ylabel('Actual')\n",
        "plt.title('Confusion Matrix')\n",
        "plt.show()"
      ]
    },
    {
      "cell_type": "markdown",
      "metadata": {},
      "source": [
        "### Try deep learning"
      ]
    },
    {
      "cell_type": "code",
      "execution_count": 40,
      "metadata": {},
      "outputs": [],
      "source": [
        "df_dl = df.copy()"
      ]
    },
    {
      "cell_type": "code",
      "execution_count": 41,
      "metadata": {},
      "outputs": [
        {
          "data": {
            "text/html": [
              "<div>\n",
              "<style scoped>\n",
              "    .dataframe tbody tr th:only-of-type {\n",
              "        vertical-align: middle;\n",
              "    }\n",
              "\n",
              "    .dataframe tbody tr th {\n",
              "        vertical-align: top;\n",
              "    }\n",
              "\n",
              "    .dataframe thead th {\n",
              "        text-align: right;\n",
              "    }\n",
              "</style>\n",
              "<table border=\"1\" class=\"dataframe\">\n",
              "  <thead>\n",
              "    <tr style=\"text-align: right;\">\n",
              "      <th></th>\n",
              "      <th>age</th>\n",
              "      <th>gender</th>\n",
              "      <th>blood_type</th>\n",
              "      <th>medical_condition</th>\n",
              "      <th>admission_type</th>\n",
              "      <th>medication</th>\n",
              "      <th>test_result</th>\n",
              "    </tr>\n",
              "  </thead>\n",
              "  <tbody>\n",
              "    <tr>\n",
              "      <th>0</th>\n",
              "      <td>1.508465</td>\n",
              "      <td>0</td>\n",
              "      <td>7</td>\n",
              "      <td>3</td>\n",
              "      <td>0</td>\n",
              "      <td>0</td>\n",
              "      <td>1</td>\n",
              "    </tr>\n",
              "    <tr>\n",
              "      <th>1</th>\n",
              "      <td>-0.839912</td>\n",
              "      <td>1</td>\n",
              "      <td>6</td>\n",
              "      <td>1</td>\n",
              "      <td>1</td>\n",
              "      <td>2</td>\n",
              "      <td>2</td>\n",
              "    </tr>\n",
              "    <tr>\n",
              "      <th>2</th>\n",
              "      <td>0.487431</td>\n",
              "      <td>1</td>\n",
              "      <td>5</td>\n",
              "      <td>5</td>\n",
              "      <td>1</td>\n",
              "      <td>2</td>\n",
              "      <td>2</td>\n",
              "    </tr>\n",
              "    <tr>\n",
              "      <th>3</th>\n",
              "      <td>-0.125189</td>\n",
              "      <td>1</td>\n",
              "      <td>5</td>\n",
              "      <td>1</td>\n",
              "      <td>2</td>\n",
              "      <td>4</td>\n",
              "      <td>0</td>\n",
              "    </tr>\n",
              "    <tr>\n",
              "      <th>4</th>\n",
              "      <td>-0.023086</td>\n",
              "      <td>1</td>\n",
              "      <td>7</td>\n",
              "      <td>0</td>\n",
              "      <td>2</td>\n",
              "      <td>3</td>\n",
              "      <td>2</td>\n",
              "    </tr>\n",
              "  </tbody>\n",
              "</table>\n",
              "</div>"
            ],
            "text/plain": [
              "        age  gender  blood_type  medical_condition  admission_type  \\\n",
              "0  1.508465       0           7                  3               0   \n",
              "1 -0.839912       1           6                  1               1   \n",
              "2  0.487431       1           5                  5               1   \n",
              "3 -0.125189       1           5                  1               2   \n",
              "4 -0.023086       1           7                  0               2   \n",
              "\n",
              "   medication  test_result  \n",
              "0           0            1  \n",
              "1           2            2  \n",
              "2           2            2  \n",
              "3           4            0  \n",
              "4           3            2  "
            ]
          },
          "execution_count": 41,
          "metadata": {},
          "output_type": "execute_result"
        }
      ],
      "source": [
        "df_dl.head()"
      ]
    },
    {
      "cell_type": "code",
      "execution_count": 55,
      "metadata": {},
      "outputs": [],
      "source": [
        "X = df_dl.drop('test_result', axis=1)\n",
        "y = df_dl[['test_result']]\n"
      ]
    },
    {
      "cell_type": "code",
      "execution_count": 56,
      "metadata": {},
      "outputs": [],
      "source": [
        "X_train, X_test, y_train, y_test = train_test_split(X, y, test_size=0.2, random_state=42)"
      ]
    },
    {
      "cell_type": "code",
      "execution_count": 57,
      "metadata": {},
      "outputs": [],
      "source": [
        "import tensorflow as tf\n",
        "model_dl = tf.keras.models.Sequential([\n",
        "    tf.keras.layers.Dense(64, activation='relu', input_shape=(X_train.shape[1],)),\n",
        "    tf.keras.layers.Dense(32, activation='relu'),\n",
        "    tf.keras.layers.Dense(y.shape[1], activation='softmax')\n",
        "])"
      ]
    },
    {
      "cell_type": "code",
      "execution_count": 58,
      "metadata": {},
      "outputs": [
        {
          "name": "stdout",
          "output_type": "stream",
          "text": [
            "Epoch 1/20\n",
            "250/250 [==============================] - 1s 2ms/step - loss: 0.0000e+00 - accuracy: 0.3301 - val_loss: 0.0000e+00 - val_accuracy: 0.3180\n",
            "Epoch 2/20\n",
            "250/250 [==============================] - 0s 1ms/step - loss: 0.0000e+00 - accuracy: 0.3301 - val_loss: 0.0000e+00 - val_accuracy: 0.3180\n",
            "Epoch 3/20\n",
            "250/250 [==============================] - 0s 1ms/step - loss: 0.0000e+00 - accuracy: 0.3301 - val_loss: 0.0000e+00 - val_accuracy: 0.3180\n",
            "Epoch 4/20\n",
            "250/250 [==============================] - 0s 1ms/step - loss: 0.0000e+00 - accuracy: 0.3301 - val_loss: 0.0000e+00 - val_accuracy: 0.3180\n",
            "Epoch 5/20\n",
            "250/250 [==============================] - 0s 1ms/step - loss: 0.0000e+00 - accuracy: 0.3301 - val_loss: 0.0000e+00 - val_accuracy: 0.3180\n",
            "Epoch 6/20\n",
            "250/250 [==============================] - 0s 1ms/step - loss: 0.0000e+00 - accuracy: 0.3301 - val_loss: 0.0000e+00 - val_accuracy: 0.3180\n",
            "Epoch 7/20\n",
            "250/250 [==============================] - 0s 1ms/step - loss: 0.0000e+00 - accuracy: 0.3301 - val_loss: 0.0000e+00 - val_accuracy: 0.3180\n",
            "Epoch 8/20\n",
            "250/250 [==============================] - 0s 2ms/step - loss: 0.0000e+00 - accuracy: 0.3301 - val_loss: 0.0000e+00 - val_accuracy: 0.3180\n",
            "Epoch 9/20\n",
            "250/250 [==============================] - 0s 1ms/step - loss: 0.0000e+00 - accuracy: 0.3301 - val_loss: 0.0000e+00 - val_accuracy: 0.3180\n",
            "Epoch 10/20\n",
            "250/250 [==============================] - 0s 1ms/step - loss: 0.0000e+00 - accuracy: 0.3301 - val_loss: 0.0000e+00 - val_accuracy: 0.3180\n",
            "Epoch 11/20\n",
            "250/250 [==============================] - 0s 1ms/step - loss: 0.0000e+00 - accuracy: 0.3301 - val_loss: 0.0000e+00 - val_accuracy: 0.3180\n",
            "Epoch 12/20\n",
            "250/250 [==============================] - 0s 1ms/step - loss: 0.0000e+00 - accuracy: 0.3301 - val_loss: 0.0000e+00 - val_accuracy: 0.3180\n",
            "Epoch 13/20\n",
            "250/250 [==============================] - 0s 1ms/step - loss: 0.0000e+00 - accuracy: 0.3301 - val_loss: 0.0000e+00 - val_accuracy: 0.3180\n",
            "Epoch 14/20\n",
            "250/250 [==============================] - 0s 1ms/step - loss: 0.0000e+00 - accuracy: 0.3301 - val_loss: 0.0000e+00 - val_accuracy: 0.3180\n",
            "Epoch 15/20\n",
            "250/250 [==============================] - 0s 1ms/step - loss: 0.0000e+00 - accuracy: 0.3301 - val_loss: 0.0000e+00 - val_accuracy: 0.3180\n",
            "Epoch 16/20\n",
            "250/250 [==============================] - 0s 1ms/step - loss: 0.0000e+00 - accuracy: 0.3301 - val_loss: 0.0000e+00 - val_accuracy: 0.3180\n",
            "Epoch 17/20\n",
            "250/250 [==============================] - 0s 1ms/step - loss: 0.0000e+00 - accuracy: 0.3301 - val_loss: 0.0000e+00 - val_accuracy: 0.3180\n",
            "Epoch 18/20\n",
            "250/250 [==============================] - 0s 2ms/step - loss: 0.0000e+00 - accuracy: 0.3301 - val_loss: 0.0000e+00 - val_accuracy: 0.3180\n",
            "Epoch 19/20\n",
            "250/250 [==============================] - 0s 1ms/step - loss: 0.0000e+00 - accuracy: 0.3301 - val_loss: 0.0000e+00 - val_accuracy: 0.3180\n",
            "Epoch 20/20\n",
            "250/250 [==============================] - 0s 1ms/step - loss: 0.0000e+00 - accuracy: 0.3301 - val_loss: 0.0000e+00 - val_accuracy: 0.3180\n"
          ]
        },
        {
          "data": {
            "text/plain": [
              "<tensorflow.python.keras.callbacks.History at 0x14296fa9730>"
            ]
          },
          "execution_count": 58,
          "metadata": {},
          "output_type": "execute_result"
        }
      ],
      "source": [
        "model_dl.compile(optimizer='adam', loss='categorical_crossentropy', metrics=['accuracy'])\n",
        "\n",
        "model_dl.fit(X_train, y_train, epochs=20, batch_size=32, validation_data=(X_test, y_test))"
      ]
    },
    {
      "cell_type": "code",
      "execution_count": null,
      "metadata": {},
      "outputs": [],
      "source": []
    }
  ],
  "metadata": {
    "colab": {
      "provenance": []
    },
    "kernelspec": {
      "display_name": "Python 3",
      "name": "python3"
    },
    "language_info": {
      "codemirror_mode": {
        "name": "ipython",
        "version": 3
      },
      "file_extension": ".py",
      "mimetype": "text/x-python",
      "name": "python",
      "nbconvert_exporter": "python",
      "pygments_lexer": "ipython3",
      "version": "3.9.7"
    }
  },
  "nbformat": 4,
  "nbformat_minor": 0
}
